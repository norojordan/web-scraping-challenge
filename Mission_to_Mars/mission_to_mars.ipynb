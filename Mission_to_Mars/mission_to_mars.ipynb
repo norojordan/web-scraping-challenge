{
 "cells": [
  {
   "cell_type": "code",
   "execution_count": 1,
   "id": "f80a13f9",
   "metadata": {},
   "outputs": [],
   "source": [
    "# Import dependencies\n",
    "\n",
    "import pandas as pd\n",
    "from splinter import Browser\n",
    "from bs4 import BeautifulSoup\n",
    "from webdriver_manager.chrome import ChromeDriverManager\n",
    "import requests\n",
    "import pymongo\n"
   ]
  },
  {
   "cell_type": "code",
   "execution_count": 2,
   "id": "3f12c003",
   "metadata": {
    "scrolled": true
   },
   "outputs": [
    {
     "name": "stderr",
     "output_type": "stream",
     "text": [
      "\n",
      "\n",
      "====== WebDriver manager ======\n",
      "Current google-chrome version is 99.0.4844\n",
      "Get LATEST chromedriver version for 99.0.4844 google-chrome\n",
      "Driver [/Users/noreenjordan/.wdm/drivers/chromedriver/mac64/99.0.4844.51/chromedriver] found in cache\n"
     ]
    }
   ],
   "source": [
    "# Initialize the browser\n",
    "\n",
    "executable_path = {'executable_path': ChromeDriverManager().install()}\n",
    "browser = Browser('chrome', **executable_path, headless=False)\n"
   ]
  },
  {
   "cell_type": "markdown",
   "id": "fa441f13",
   "metadata": {},
   "source": [
    "# NASA's Mars News\n",
    "\n",
    "\n"
   ]
  },
  {
   "cell_type": "code",
   "execution_count": 18,
   "id": "8d23d15c",
   "metadata": {},
   "outputs": [],
   "source": [
    "# get the url for NASA' MArs news\n",
    "url = \"https://redplanetscience.com\"\n",
    "# open the url\n",
    "browser.visit(url)"
   ]
  },
  {
   "cell_type": "code",
   "execution_count": 19,
   "id": "8bfc5660",
   "metadata": {},
   "outputs": [],
   "source": [
    "# Retrieve page with the requests module\n",
    "response = requests.get(url)"
   ]
  },
  {
   "cell_type": "code",
   "execution_count": 20,
   "id": "335d2276",
   "metadata": {},
   "outputs": [],
   "source": [
    "# Create BeautifulSoup object; parse with 'html.parser'\n",
    "\n",
    "html = browser.html\n",
    "soup = BeautifulSoup(html, 'html.parser')\n",
    "#soup = BeautifulSoup(response.text, 'html.parser')"
   ]
  },
  {
   "cell_type": "code",
   "execution_count": 21,
   "id": "90f23df2",
   "metadata": {},
   "outputs": [
    {
     "name": "stdout",
     "output_type": "stream",
     "text": [
      "News - Mars Exploration Program\n"
     ]
    }
   ],
   "source": [
    "# Extract title \n",
    "title = soup.title.text\n",
    "print(title)"
   ]
  },
  {
   "cell_type": "code",
   "execution_count": 24,
   "id": "3499d35a",
   "metadata": {},
   "outputs": [
    {
     "name": "stdout",
     "output_type": "stream",
     "text": [
      "7 Things to Know About the Mars 2020 Perseverance Rover Mission\n"
     ]
    }
   ],
   "source": [
    "#Extract the latest news title \n",
    "news_title = soup.find('div',class_='content_title').text\n",
    "print(news_title)\n"
   ]
  },
  {
   "cell_type": "code",
   "execution_count": 25,
   "id": "23024418",
   "metadata": {},
   "outputs": [
    {
     "name": "stdout",
     "output_type": "stream",
     "text": [
      "NASA's next rover to the Red Planet is slated to launch no earlier than July 30. These highlights will get you up to speed on the ambitious mission.\n"
     ]
    }
   ],
   "source": [
    "#Extract the latest news paragraph text\n",
    "news_p = soup.find('div', class_='article_teaser_body').text\n",
    "print(news_p)"
   ]
  },
  {
   "cell_type": "code",
   "execution_count": 9,
   "id": "0ad8507a",
   "metadata": {},
   "outputs": [
    {
     "name": "stdout",
     "output_type": "stream",
     "text": [
      "NASA to Broadcast Mars 2020 Perseverance Launch, Prelaunch Activities\n"
     ]
    }
   ],
   "source": [
    "# The text of the first paragraph\n",
    "news_p = soup.find('p', class_='card-text').text\n",
    "print(news_p)"
   ]
  },
  {
   "cell_type": "markdown",
   "id": "56f31095",
   "metadata": {},
   "source": [
    "# JPL Mars Space Images"
   ]
  },
  {
   "cell_type": "code",
   "execution_count": 30,
   "id": "d40aa9a2",
   "metadata": {},
   "outputs": [],
   "source": [
    "# get the url for the Featured Space Image site\n",
    "image_url =\"https://spaceimages-mars.com\"\n",
    "# open the url\n",
    "browser.visit(image_url)\n"
   ]
  },
  {
   "cell_type": "code",
   "execution_count": 31,
   "id": "265b12ce",
   "metadata": {},
   "outputs": [
    {
     "name": "stdout",
     "output_type": "stream",
     "text": [
      "<img class=\"headerimage fade-in\" src=\"image/featured/mars3.jpg\"/>\n"
     ]
    }
   ],
   "source": [
    "# create html to parse\n",
    "html = browser.html\n",
    "\n",
    "# create soup object to parse html\n",
    "soup = BeautifulSoup(html, \"html.parser\")\n",
    "\n",
    "image = soup.find(\"img\", class_=\"headerimage fade-in\")\n",
    "print(image)"
   ]
  },
  {
   "cell_type": "code",
   "execution_count": 33,
   "id": "e4c76a11",
   "metadata": {},
   "outputs": [
    {
     "name": "stdout",
     "output_type": "stream",
     "text": [
      "https://spaceimages-mars.com/image/featured/mars3.jpeg\n"
     ]
    }
   ],
   "source": [
    "featured_image_url = 'https://spaceimages-mars.com/image/featured/mars3.jpeg'\n",
    "print(featured_image_url)"
   ]
  },
  {
   "cell_type": "markdown",
   "id": "462c0f47",
   "metadata": {},
   "source": [
    "# Mars Facts"
   ]
  },
  {
   "cell_type": "code",
   "execution_count": null,
   "id": "5b096bc0",
   "metadata": {},
   "outputs": [],
   "source": [
    "# get the url for Mars Facts webpage\n",
    "facts_url =\"https://galaxyfacts-mars.com/\"\n",
    "# open the url\n",
    "browser.visit(facts_url)"
   ]
  },
  {
   "cell_type": "code",
   "execution_count": null,
   "id": "3e039d7f",
   "metadata": {},
   "outputs": [],
   "source": [
    "# Use Pandas to get and read the table\n",
    "table = pd.read_html(facts_url)\n",
    "table"
   ]
  },
  {
   "cell_type": "code",
   "execution_count": null,
   "id": "a69718ec",
   "metadata": {},
   "outputs": [],
   "source": [
    "#Pull out the first table on the page and put into a dataframe\n",
    "mars_facts_df = table[0]\n",
    "mars_facts_df"
   ]
  },
  {
   "cell_type": "code",
   "execution_count": null,
   "id": "9484f8ea",
   "metadata": {},
   "outputs": [],
   "source": [
    "\n",
    "mars_facts_df.columns =['Mars','Facts','Earth']\n",
    "del mars_facts_df['Earth']\n",
    "mars_facts_df"
   ]
  },
  {
   "cell_type": "code",
   "execution_count": null,
   "id": "d1074dd9",
   "metadata": {},
   "outputs": [],
   "source": [
    "# drop the first row and reset the index\n",
    "mars_facts_df = mars_facts_df.drop(mars_facts_df.index[:1])\n",
    "mars_facts_df.set_index('Mars', inplace=True)\n",
    "mars_facts_df"
   ]
  },
  {
   "cell_type": "markdown",
   "id": "8435a04b",
   "metadata": {},
   "source": [
    "# Mars Hemispheres"
   ]
  },
  {
   "cell_type": "code",
   "execution_count": 34,
   "id": "3618e792",
   "metadata": {},
   "outputs": [],
   "source": [
    "# get the url for Mars Hemispheres\n",
    "hemisphere_url =\"https://marshemispheres.com/\"\n",
    "# open the url\n",
    "browser.visit(hemisphere_url)"
   ]
  },
  {
   "cell_type": "code",
   "execution_count": 37,
   "id": "47aa521d",
   "metadata": {},
   "outputs": [
    {
     "name": "stdout",
     "output_type": "stream",
     "text": [
      "<img class=\"wide-image\" src=\"images/f5e372a36edfa389625da6d0cc25d905_cerberus_enhanced.tif_full.jpg\"/>\n"
     ]
    }
   ],
   "source": [
    "# create html to parse\n",
    "html = browser.html\n",
    "\n",
    "# create soup object to parse html\n",
    "soup = BeautifulSoup(html, \"html.parser\")\n",
    "\n",
    "image = soup.find(\"img\", class_=\"wide-image\")\n",
    "print(image)"
   ]
  },
  {
   "cell_type": "code",
   "execution_count": 56,
   "id": "69f11c70",
   "metadata": {},
   "outputs": [
    {
     "data": {
      "text/plain": [
       "[]"
      ]
     },
     "execution_count": 56,
     "metadata": {},
     "output_type": "execute_result"
    }
   ],
   "source": [
    "# extract the necessary image urls and title\n",
    "images = soup.find_all(\"img\", class_=\"item\")\n",
    "\n",
    "img_urls_dict = []\n",
    "\n",
    "# loop through image data to find title and url info\n",
    "for i in images:\n",
    "    \n",
    "    title = soup.find(\"h3\").text\n",
    "    \n",
    "    # use requests to get full images url \n",
    "    response = requests.get(url)\n",
    "    \n",
    "    # create soup object\n",
    "    soup = BeautifulSoup(response.text,\"html.parser\")\n",
    "    \n",
    "    # find full image url\n",
    "    new_url = soup.find(\"img\", class_=\"wide-image\")\n",
    "    \n",
    "    # create full image url\n",
    "    full_url = \"https://marshemispheres.com/\" + new_url\n",
    "  \n",
    "    \n",
    "    #make a dict and append to the list\n",
    "    img_urls_dict.append({\"title\": title, \"img_url\": full_url})\n",
    "\n",
    "img_urls_dict    \n",
    "            "
   ]
  },
  {
   "cell_type": "code",
   "execution_count": null,
   "id": "20669a2b",
   "metadata": {},
   "outputs": [],
   "source": [
    "browser.quit()"
   ]
  }
 ],
 "metadata": {
  "kernelspec": {
   "display_name": "Python 3 (ipykernel)",
   "language": "python",
   "name": "python3"
  },
  "language_info": {
   "codemirror_mode": {
    "name": "ipython",
    "version": 3
   },
   "file_extension": ".py",
   "mimetype": "text/x-python",
   "name": "python",
   "nbconvert_exporter": "python",
   "pygments_lexer": "ipython3",
   "version": "3.9.7"
  }
 },
 "nbformat": 4,
 "nbformat_minor": 5
}
